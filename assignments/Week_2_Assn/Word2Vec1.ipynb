{
  "nbformat": 4,
  "nbformat_minor": 0,
  "metadata": {
    "colab": {
      "name": "Word2Vec1.ipynb",
      "provenance": [],
      "collapsed_sections": []
    },
    "kernelspec": {
      "name": "python3",
      "display_name": "Python 3"
    },
    "accelerator": "GPU"
  },
  "cells": [
    {
      "cell_type": "code",
      "metadata": {
        "id": "B41IX_hDCBdP",
        "colab_type": "code",
        "colab": {}
      },
      "source": [
        "import tensorflow as tf\n",
        "from tensorflow import keras\n",
        "from tensorflow.keras import layers\n",
        "import numpy as np\n",
        "import csv"
      ],
      "execution_count": 0,
      "outputs": []
    },
    {
      "cell_type": "code",
      "metadata": {
        "id": "-5qL5WOCCn7m",
        "colab_type": "code",
        "colab": {}
      },
      "source": [
        "import tensorflow_datasets as tfds\n",
        "imdb, info = tfds.load(\"imdb_reviews\", with_info=True, as_supervised=True)"
      ],
      "execution_count": 0,
      "outputs": []
    },
    {
      "cell_type": "code",
      "metadata": {
        "id": "e8IqNtmsCtdt",
        "colab_type": "code",
        "colab": {}
      },
      "source": [
        "train_data, test_data = imdb['train'], imdb['test']\n",
        "\n",
        "training_sentences = []\n",
        "training_labels = []\n",
        "\n",
        "testing_sentences = []\n",
        "testing_labels = []\n",
        "\n",
        "train_w2v_sent = []\n",
        "train_w2v_labels = []\n",
        "test_w2v_sent = []\n",
        "test_w2v_labels = []\n",
        "temp = []\n",
        "\n",
        "# str(s.tonumpy()) is needed in Python3 instead of just s.numpy()\n",
        "for s,l in train_data:\n",
        "    training_sentences.append(str(s.numpy()))\n",
        "    training_labels.append(l.numpy())\n",
        "\n",
        "    \n",
        "    \n",
        "for s,l in test_data:\n",
        "    testing_sentences.append(str(s.numpy()))\n",
        "    testing_labels.append(l.numpy())\n",
        "\n",
        "    \n",
        "training_labels_final = np.array(training_labels)\n",
        "testing_labels_final = np.array(testing_labels)\n"
      ],
      "execution_count": 0,
      "outputs": []
    },
    {
      "cell_type": "code",
      "metadata": {
        "id": "s-v4TMSrC7k3",
        "colab_type": "code",
        "colab": {}
      },
      "source": [
        "vocab_size = 10000\n",
        "embedding_dim = 200\n",
        "max_length = 120\n",
        "trunc_type='post'\n",
        "oov_tok = \"<OOV>\"\n",
        "\n",
        "\n",
        "from tensorflow.keras.preprocessing.text import Tokenizer\n",
        "from tensorflow.keras.preprocessing.sequence import pad_sequences\n",
        "\n",
        "tokenizer = Tokenizer(num_words = vocab_size, oov_token=oov_tok)\n",
        "tokenizer.fit_on_texts(training_sentences)\n",
        "word_index = tokenizer.word_index\n",
        "sequences = tokenizer.texts_to_sequences(training_sentences)\n",
        "padded = pad_sequences(sequences,maxlen=max_length, truncating=trunc_type)\n",
        "\n",
        "testing_sequences = tokenizer.texts_to_sequences(testing_sentences)\n",
        "testing_padded = pad_sequences(testing_sequences,maxlen=max_length)"
      ],
      "execution_count": 0,
      "outputs": []
    },
    {
      "cell_type": "code",
      "metadata": {
        "id": "PrMF4vlmC_zi",
        "colab_type": "code",
        "outputId": "7a82ddac-a964-4022-9f7a-0b04fb517c74",
        "colab": {
          "base_uri": "https://localhost:8080/",
          "height": 34
        }
      },
      "source": [
        "print(len(sequences))\n",
        "for i in range(len(sequences)):\n",
        "    for j in range(len(sequences[i])):\n",
        "        train_w2v_labels.append(sequences[i][j])\n",
        "        if j == 0:\n",
        "            temp = [sequences[i][j+1],sequences[i][j+2],sequences[i][j+3]]\n",
        "            train_w2v_sent.append(temp)\n",
        "            \n",
        "        elif j == 1:\n",
        "            temp = [sequences[i][j+1],sequences[i][j+2],sequences[i][j-1],sequences[i][j+3]]\n",
        "            train_w2v_sent.append(temp)\n",
        "\n",
        "        elif j == 2:\n",
        "            temp = [sequences[i][j-1],sequences[i][j-2],sequences[i][j+3],sequences[i][j+1],sequences[i][j+2]]\n",
        "            train_w2v_sent.append(temp)\n",
        "            \n",
        "        elif j == len(sequences[i])-2:\n",
        "            temp = [sequences[i][j+1],sequences[i][j-1],sequences[i][j-2],sequences[i][j-3]]\n",
        "            train_w2v_sent.append(temp)\n",
        "            \n",
        "        elif j == len(sequences[i])-1:\n",
        "            temp = [sequences[i][j-1],sequences[i][j-2],sequences[i][j-3]]\n",
        "            train_w2v_sent.append(temp)\n",
        "\n",
        "        elif j == len(sequences[i])-3:\n",
        "            temp = [sequences[i][j-1],sequences[i][j-2],sequences[i][j-3],sequences[i][j+1],sequences[i][j+2]]\n",
        "            train_w2v_sent.append(temp)\n",
        "            \n",
        "        else:\n",
        "            temp = [sequences[i][j-3],sequences[i][j-2],sequences[i][j-1],sequences[i][j+1],sequences[i][j+2],sequences[i][j+3]]\n",
        "            train_w2v_sent.append(temp)\n",
        "            "
      ],
      "execution_count": 0,
      "outputs": [
        {
          "output_type": "stream",
          "text": [
            "25000\n"
          ],
          "name": "stdout"
        }
      ]
    },
    {
      "cell_type": "code",
      "metadata": {
        "id": "yWisu5DJx3aU",
        "colab_type": "code",
        "outputId": "dd325348-5f66-428f-850a-e280ecdb9181",
        "colab": {
          "base_uri": "https://localhost:8080/",
          "height": 34
        }
      },
      "source": [
        "print(len(testing_sequences))\n",
        "for i in range(len(testing_sequences)):\n",
        "    for j in range(len(testing_sequences[i])):\n",
        "        test_w2v_labels.append(testing_sequences[i][j])\n",
        "        if j == 0:\n",
        "            temp = [testing_sequences[i][j+1],testing_sequences[i][j+2],testing_sequences[i][j+3]]\n",
        "            test_w2v_sent.append(temp)\n",
        "            \n",
        "        elif j == 1:\n",
        "            temp = [testing_sequences[i][j+1],testing_sequences[i][j+2],testing_sequences[i][j-1],testing_sequences[i][j+3]]\n",
        "            test_w2v_sent.append(temp)\n",
        "\n",
        "        elif j == 2:\n",
        "            temp = [testing_sequences[i][j-1],testing_sequences[i][j-2],testing_sequences[i][j+3],testing_sequences[i][j+1],testing_sequences[i][j+2]]\n",
        "            test_w2v_sent.append(temp)\n",
        "            \n",
        "        elif j == len(testing_sequences[i])-2:\n",
        "            temp = [testing_sequences[i][j+1],testing_sequences[i][j-1],testing_sequences[i][j-2],testing_sequences[i][j-3]]\n",
        "            test_w2v_sent.append(temp)\n",
        "            \n",
        "        elif j == len(testing_sequences[i])-1:\n",
        "            temp = [testing_sequences[i][j-1],testing_sequences[i][j-2],testing_sequences[i][j-3]]\n",
        "            test_w2v_sent.append(temp)\n",
        "\n",
        "        elif j == len(testing_sequences[i])-3:\n",
        "            temp = [testing_sequences[i][j-1],testing_sequences[i][j-2],testing_sequences[i][j-3],testing_sequences[i][j+1],testing_sequences[i][j+2]]\n",
        "            test_w2v_sent.append(temp)\n",
        "            \n",
        "        else:\n",
        "            temp = [testing_sequences[i][j-3],testing_sequences[i][j-2],testing_sequences[i][j-1],testing_sequences[i][j+1],testing_sequences[i][j+2],testing_sequences[i][j+3]]\n",
        "            test_w2v_sent.append(temp)\n",
        "            "
      ],
      "execution_count": 0,
      "outputs": [
        {
          "output_type": "stream",
          "text": [
            "25000\n"
          ],
          "name": "stdout"
        }
      ]
    },
    {
      "cell_type": "code",
      "metadata": {
        "id": "0jQ38HAvDDG_",
        "colab_type": "code",
        "outputId": "1ba7ba99-c390-43f5-88a1-b538583a5e2d",
        "colab": {
          "base_uri": "https://localhost:8080/",
          "height": 70
        }
      },
      "source": [
        "i=0\n",
        "j=0\n",
        "temp = []\n",
        "m = len(testing_sequences)\n",
        "print(testing_sequences[i])\n",
        "for i in range(m,int(m/2)):\n",
        "    for j in range(len(testing_sequences[i])):\n",
        "        test_w2v_labels.append(testing_sequences[i][j])\n",
        "        if j == 0:\n",
        "            temp = [testing_sequences[i][j+1],testing_sequences[i][j+2],testing_sequences[i][j+3]]\n",
        "            test_w2v_sent.append(temp)\n",
        "            \n",
        "        elif j == 1:\n",
        "            temp = [testing_sequences[i][j+1],testing_sequences[i][j+2],testing_sequences[i][j-1],testing_sequences[i][j+3]]\n",
        "            test_w2v_sent.append(temp)\n",
        "            \n",
        "        elif j == 2:\n",
        "            temp = [testing_sequences[i][j+1],testing_sequences[i][j+2],testing_sequences[i][j-1],testing_sequences[i][j+3],testing_sequences[i][j-2]]\n",
        "            test_w2v_sent.append(temp)\n",
        "\n",
        "        elif j == len(testing_sequences[i])-3:\n",
        "            temp = [testing_sequences[i][j+1],testing_sequences[i][j-1],testing_sequences[i][j-2],testing_sequences[i][j-3],testing_sequences[i][j-2]]\n",
        "            test_w2v_sent.append(temp)\n",
        "\n",
        "        elif j == len(testing_sequences[i])-2:\n",
        "            temp = [testing_sequences[i][j+1],testing_sequences[i][j-1],testing_sequences[i][j-2],testing_sequences[i][j-3]]\n",
        "            test_w2v_sent.append(temp)\n",
        "            \n",
        "        elif j == len(testing_sequences[i])-1:\n",
        "            temp = [testing_sequences[i][j-1],testing_sequences[i][j-2],testing_sequences[i][j-3]]\n",
        "            test_w2v_sent.append(temp)\n",
        "            \n",
        "        else:\n",
        "            temp = [testing_sequences[i][j-3],testing_sequences[i][j-2],testing_sequences[i][j-1],testing_sequences[i][j+1],testing_sequences[i][j+2],testing_sequences[i][j+3]]\n",
        "            test_w2v_sent.append(temp)\n",
        "\n",
        "print(test_w2v_sent[1])            "
      ],
      "execution_count": 0,
      "outputs": [
        {
          "output_type": "stream",
          "text": [
            "[59, 44, 25, 109, 13, 97, 4115, 16, 742, 4370, 10, 14, 316, 5, 2, 593, 354, 16, 1864, 1212, 1, 16, 680, 7499, 5595, 1, 773, 6, 13, 1037, 1, 1, 439, 491, 1, 4, 1, 334, 3610, 20, 229, 3, 15, 5796, 3, 15, 1646, 15, 102, 5, 2, 3597, 101, 11, 1450, 1528, 12, 251, 235, 11, 216, 2, 377, 6429, 3, 62, 95, 11, 174, 105, 11, 1528, 180, 12, 251, 37, 6, 1144, 1, 682, 7, 4452, 1, 4, 1, 334, 7, 37, 8367, 377, 5, 1420, 1, 13, 30, 64, 28, 6, 874, 181, 17, 4, 1050, 5, 12, 224, 3, 83, 4, 353, 33, 353, 5229, 5, 10, 6, 1340, 1160, 2, 5738, 1, 3, 1, 5, 10, 175, 328, 7, 1319, 3989, 4, 798, 1946, 5, 4, 250, 2710, 158, 3, 2, 361, 31, 187, 25, 1170, 499, 610, 5, 2, 122, 2, 356, 1398, 7725, 30, 1, 881, 38, 4, 20, 39, 12, 1, 4, 1, 334, 7, 4, 20, 634, 60, 48, 214]\n",
            "[25, 109, 59, 13]\n"
          ],
          "name": "stdout"
        }
      ]
    },
    {
      "cell_type": "code",
      "metadata": {
        "id": "N8OwWLdnDHMW",
        "colab_type": "code",
        "colab": {}
      },
      "source": [
        "train_padded = pad_sequences(train_w2v_sent,maxlen=6)\n",
        "test_padded = pad_sequences(test_w2v_sent,maxlen=6)"
      ],
      "execution_count": 0,
      "outputs": []
    },
    {
      "cell_type": "code",
      "metadata": {
        "id": "RLR6cdZoDLfH",
        "colab_type": "code",
        "outputId": "26390ecb-80aa-4f13-eb74-e15c6bbe7d9f",
        "colab": {
          "base_uri": "https://localhost:8080/",
          "height": 118
        }
      },
      "source": [
        "print(train_w2v_sent[1])\n",
        "print(test_w2v_sent[1])\n",
        "print(train_padded[1])\n",
        "print(test_padded[1])\n",
        "print(train_w2v_labels[1])\n",
        "print(test_w2v_labels[1])"
      ],
      "execution_count": 0,
      "outputs": [
        {
          "output_type": "stream",
          "text": [
            "[14, 35, 59, 439]\n",
            "[25, 109, 59, 13]\n",
            "[  0   0  14  35  59 439]\n",
            "[  0   0  25 109  59  13]\n",
            "12\n",
            "44\n"
          ],
          "name": "stdout"
        }
      ]
    },
    {
      "cell_type": "code",
      "metadata": {
        "id": "b0e2mExDDUsa",
        "colab_type": "code",
        "colab": {}
      },
      "source": [
        "train_labels_final = np.array(train_w2v_labels)\n",
        "test_labels_final = np.array(test_w2v_labels)\n",
        "# train_sent_final = np.array(train_w2v_sent)\n",
        "# test_sent_final = np.array(test_w2v_sent)\n",
        "train_sent_final = np.array(train_padded)\n",
        "test_sent_final = np.array(test_padded)"
      ],
      "execution_count": 0,
      "outputs": []
    },
    {
      "cell_type": "code",
      "metadata": {
        "id": "My5k7AIUDXH9",
        "colab_type": "code",
        "colab": {}
      },
      "source": [
        "reverse_word_index = dict([(value, key) for (key, value) in word_index.items()])\n",
        "\n",
        "def decode_review(text):\n",
        "    return ' '.join([reverse_word_index.get(i, '?') for i in text])\n",
        "\n",
        "# print(decode_review(padded[3]))\n",
        "# print(sequences[3])"
      ],
      "execution_count": 0,
      "outputs": []
    },
    {
      "cell_type": "code",
      "metadata": {
        "id": "2Nmu70hoDaYN",
        "colab_type": "code",
        "outputId": "ea1a0191-fa07-48c2-8446-5c8df8792d9c",
        "colab": {
          "base_uri": "https://localhost:8080/",
          "height": 286
        }
      },
      "source": [
        "model = tf.keras.Sequential([\n",
        "    tf.keras.layers.Embedding(vocab_size, embedding_dim, input_length=6),\n",
        "    tf.keras.layers.Flatten(),\n",
        "    tf.keras.layers.Dense(6, activation='relu'),\n",
        "#     tf.keras.layers.Dense(6, activation='tanh'),\n",
        "    tf.keras.layers.Dense(vocab_size, activation='softmax')\n",
        "])\n",
        "model.compile(loss=tf.keras.losses.SparseCategoricalCrossentropy(),optimizer='adam',metrics=['accuracy'])\n",
        "model.summary()"
      ],
      "execution_count": 0,
      "outputs": [
        {
          "output_type": "stream",
          "text": [
            "Model: \"sequential_1\"\n",
            "_________________________________________________________________\n",
            "Layer (type)                 Output Shape              Param #   \n",
            "=================================================================\n",
            "embedding_1 (Embedding)      (None, 6, 200)            2000000   \n",
            "_________________________________________________________________\n",
            "flatten_1 (Flatten)          (None, 1200)              0         \n",
            "_________________________________________________________________\n",
            "dense_2 (Dense)              (None, 6)                 7206      \n",
            "_________________________________________________________________\n",
            "dense_3 (Dense)              (None, 10000)             70000     \n",
            "=================================================================\n",
            "Total params: 2,077,206\n",
            "Trainable params: 2,077,206\n",
            "Non-trainable params: 0\n",
            "_________________________________________________________________\n"
          ],
          "name": "stdout"
        }
      ]
    },
    {
      "cell_type": "code",
      "metadata": {
        "id": "qkI0lr_KDcw-",
        "colab_type": "code",
        "outputId": "b4c2580c-9e2b-4e2b-ecd5-5cf425981960",
        "colab": {
          "base_uri": "https://localhost:8080/",
          "height": 235
        }
      },
      "source": [
        "num_epochs = 6\n",
        "# model.fit(padded, training_labels_final, epochs=num_epochs, validation_data=(testing_padded, testing_labels_final))\n",
        "model.fit(train_sent_final,\n",
        "          train_labels_final,\n",
        "          batch_size=10000,\n",
        "          epochs=num_epochs,\n",
        "          validation_data=(test_sent_final, test_labels_final))"
      ],
      "execution_count": 0,
      "outputs": [
        {
          "output_type": "stream",
          "text": [
            "Epoch 1/6\n",
            "1815/1815 [==============================] - 196s 108ms/step - loss: 4.9466 - accuracy: 0.2228 - val_loss: 4.9744 - val_accuracy: 0.2208\n",
            "Epoch 2/6\n",
            "1815/1815 [==============================] - 195s 107ms/step - loss: 4.9392 - accuracy: 0.2235 - val_loss: 4.9692 - val_accuracy: 0.2211\n",
            "Epoch 3/6\n",
            "1815/1815 [==============================] - 195s 107ms/step - loss: 4.9338 - accuracy: 0.2238 - val_loss: 4.9651 - val_accuracy: 0.2214\n",
            "Epoch 4/6\n",
            "1815/1815 [==============================] - 193s 106ms/step - loss: 4.9297 - accuracy: 0.2239 - val_loss: 4.9628 - val_accuracy: 0.2217\n",
            "Epoch 5/6\n",
            "1815/1815 [==============================] - 195s 107ms/step - loss: 4.9263 - accuracy: 0.2240 - val_loss: 4.9601 - val_accuracy: 0.2216\n",
            "Epoch 6/6\n",
            "1815/1815 [==============================] - 194s 107ms/step - loss: 4.9234 - accuracy: 0.2240 - val_loss: 4.9587 - val_accuracy: 0.2215\n"
          ],
          "name": "stdout"
        },
        {
          "output_type": "execute_result",
          "data": {
            "text/plain": [
              "<tensorflow.python.keras.callbacks.History at 0x7fa8ed357048>"
            ]
          },
          "metadata": {
            "tags": []
          },
          "execution_count": 42
        }
      ]
    },
    {
      "cell_type": "code",
      "metadata": {
        "id": "wTqS4NRrDfZ-",
        "colab_type": "code",
        "outputId": "2dbe3f43-0d0b-459c-acd2-4cb6dee4702d",
        "colab": {
          "base_uri": "https://localhost:8080/",
          "height": 34
        }
      },
      "source": [
        "e = model.layers[0]\n",
        "weights = e.get_weights()[0]\n",
        "print(weights.shape) # shape: (vocab_size, embedding_dim)"
      ],
      "execution_count": 0,
      "outputs": [
        {
          "output_type": "stream",
          "text": [
            "(10000, 200)\n"
          ],
          "name": "stdout"
        }
      ]
    },
    {
      "cell_type": "code",
      "metadata": {
        "id": "ZHytR6RIRAKH",
        "colab_type": "code",
        "colab": {}
      },
      "source": [
        "import io\n",
        "\n",
        "out_v = io.open('vecs.tsv', 'w', encoding='utf-8')\n",
        "out_m = io.open('meta.tsv', 'w', encoding='utf-8')\n",
        "for word_num in range(1, vocab_size):\n",
        "  word = reverse_word_index[word_num]\n",
        "  embeddings = weights[word_num]\n",
        "  out_m.write(word + \"\\n\")\n",
        "  out_v.write('\\t'.join([str(x) for x in embeddings]) + \"\\n\")\n",
        "out_v.close()\n",
        "out_m.close()"
      ],
      "execution_count": 0,
      "outputs": []
    },
    {
      "cell_type": "code",
      "metadata": {
        "id": "ydOdbWZYREVm",
        "colab_type": "code",
        "colab": {}
      },
      "source": [
        "try:\n",
        "  from google.colab import files\n",
        "except ImportError:\n",
        "  pass\n",
        "else:\n",
        "  files.download('vecs.tsv')\n",
        "  files.download('meta.tsv')"
      ],
      "execution_count": 0,
      "outputs": []
    },
    {
      "cell_type": "code",
      "metadata": {
        "id": "vVwCABMPRIKV",
        "colab_type": "code",
        "colab": {}
      },
      "source": [
        ""
      ],
      "execution_count": 0,
      "outputs": []
    }
  ]
}